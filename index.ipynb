{
 "cells": [
  {
   "cell_type": "markdown",
   "metadata": {},
   "source": [
    "# Exploring and Transforming JSON Schemas - Lab"
   ]
  },
  {
   "cell_type": "markdown",
   "metadata": {},
   "source": [
    "# Introduction\n",
    "\n",
    "In this lab, you'll practice exploring a JSON file whose structure and schema is unknown to you. We will provide you with limited information, and you will explore the dataset to answer the specified question."
   ]
  },
  {
   "cell_type": "markdown",
   "metadata": {},
   "source": [
    "## Objectives\n",
    "\n",
    "You will be able to:\n",
    "\n",
    "* Use the `json` module to load and parse JSON documents\n",
    "* Explore and extract data using unknown JSON schemas\n",
    "* Convert JSON to a pandas dataframe"
   ]
  },
  {
   "cell_type": "markdown",
   "metadata": {},
   "source": [
    "## Your Task: Create a Bar Graph of the Top 10 States with the Highest Asthma Rates for Adults Age 18+\n",
    "\n",
    "The information you need to create this graph is located in `disease_data.json`. It contains both data and metadata.\n",
    "\n",
    "You are given the following codebook/data dictionary:\n",
    "\n",
    "* The actual data values are associated with the key `'DataValue'`\n",
    "* The state names are associated with the key `'LocationDesc'`\n",
    "* To filter to the appropriate records, make sure:\n",
    "  * The `'Question'` is `'Current asthma prevalence among adults aged >= 18 years'`\n",
    "  * The `'StratificationCategoryID1'` is `'OVERALL'`\n",
    "  * The `'DataValueTypeID'` is `'CRDPREV'`\n",
    "  * The `'LocationDesc'` is not `'United States'`\n",
    "  \n",
    "The provided JSON file contains both data and metadata, and you will need to parse the metadata in order to understand the meanings of the values in the data.\n",
    "\n",
    "No further information about the structure of this file is provided."
   ]
  },
  {
   "cell_type": "markdown",
   "metadata": {},
   "source": [
    "## Load the JSON File\n",
    "\n",
    "Load the data from the file `disease_data.json` into a variable `data`."
   ]
  },
  {
   "cell_type": "code",
   "execution_count": 1,
   "metadata": {},
   "outputs": [],
   "source": [
    "# Your code here \n",
    "import json\n",
    "\n",
    "# Load the JSON file into a variable named data\n",
    "with open('disease_data.json', 'r') as file:\n",
    "    data = json.load(file)\n"
   ]
  },
  {
   "cell_type": "markdown",
   "metadata": {},
   "source": [
    "## Explore the Overall Structure\n",
    "\n",
    "What is the overall data type of `data`?"
   ]
  },
  {
   "cell_type": "code",
   "execution_count": 2,
   "metadata": {},
   "outputs": [
    {
     "name": "stdout",
     "output_type": "stream",
     "text": [
      "<class 'dict'>\n"
     ]
    }
   ],
   "source": [
    "# Your code here\n",
    "# Determine the overall data type of the data variable\n",
    "data_type = type(data)\n",
    "print(data_type)\n"
   ]
  },
  {
   "cell_type": "markdown",
   "metadata": {},
   "source": [
    "What are the keys?"
   ]
  },
  {
   "cell_type": "code",
   "execution_count": 3,
   "metadata": {},
   "outputs": [
    {
     "name": "stdout",
     "output_type": "stream",
     "text": [
      "Keys present in the data dictionary:\n",
      "meta\n",
      "data\n"
     ]
    }
   ],
   "source": [
    "# Your code here\n",
    "# Check if the data type is a dictionary\n",
    "if isinstance(data, dict):\n",
    "    keys = data.keys()\n",
    "    print(\"Keys present in the data dictionary:\")\n",
    "    for key in keys:\n",
    "        print(key)\n",
    "else:\n",
    "    print(\"The data is not a dictionary.\")\n"
   ]
  },
  {
   "cell_type": "markdown",
   "metadata": {},
   "source": [
    "What are the data types associates with those keys?"
   ]
  },
  {
   "cell_type": "code",
   "execution_count": 4,
   "metadata": {},
   "outputs": [
    {
     "name": "stdout",
     "output_type": "stream",
     "text": [
      "Data Types associated with keys in 'data':\n",
      "meta: <class 'dict'>\n",
      "data: <class 'list'>\n"
     ]
    }
   ],
   "source": [
    "# Your code here (data)\n",
    "# Check if the data type is a dictionary\n",
    "if isinstance(data, dict):\n",
    "    print(\"Data Types associated with keys in 'data':\")\n",
    "    for key, value in data.items():\n",
    "        print(f\"{key}: {type(value)}\")\n",
    "else:\n",
    "    print(\"The 'data' is not a dictionary.\")"
   ]
  },
  {
   "cell_type": "code",
   "execution_count": 5,
   "metadata": {},
   "outputs": [
    {
     "name": "stdout",
     "output_type": "stream",
     "text": [
      "No 'metadata' found in the data.\n"
     ]
    }
   ],
   "source": [
    "# Your code here (metadata)\n",
    "# Check if the metadata exists\n",
    "if 'metadata' in data:\n",
    "    metadata = data['metadata']\n",
    "    # Check if the metadata is a dictionary\n",
    "    if isinstance(metadata, dict):\n",
    "        print(\"\\nData Types associated with keys in 'metadata':\")\n",
    "        for key, value in metadata.items():\n",
    "            print(f\"{key}: {type(value)}\")\n",
    "    else:\n",
    "        print(\"The 'metadata' is not a dictionary.\")\n",
    "else:\n",
    "    print(\"No 'metadata' found in the data.\")"
   ]
  },
  {
   "cell_type": "markdown",
   "metadata": {},
   "source": [
    "Perform additional exploration to understand the contents of these values. For dictionaries, what are their keys? For lists, what is the length, and what does the first element look like?"
   ]
  },
  {
   "cell_type": "code",
   "execution_count": 6,
   "metadata": {},
   "outputs": [
    {
     "name": "stdout",
     "output_type": "stream",
     "text": [
      "Exploring dictionaries in 'data':\n",
      "\n",
      "Key: meta\n",
      "Dictionary keys:\n",
      "view\n",
      "\n",
      "Key: data\n",
      "List length: 60266\n",
      "First element:\n",
      "[1, 'FF49C41F-CE8D-46C4-9164-653B1227CF6F', 1, 1527194521, '959778', 1527194521, '959778', None, '2016', '2016', 'US', 'United States', 'BRFSS', 'Alcohol', 'Binge drinking prevalence among adults aged >= 18 years', None, '%', 'Crude Prevalence', '16.9', '16.9', '*', '50 States + DC: US Median', '16', '18', 'Overall', 'Overall', None, None, None, None, [None, None, None, None, None], None, '59', 'ALC', 'ALC2_2', 'CRDPREV', 'OVERALL', 'OVR', None, None, None, None]\n"
     ]
    }
   ],
   "source": [
    "# Your code here (add additional cells as needed)\n",
    "# Additional exploration for dictionaries in 'data'\n",
    "if isinstance(data, dict):\n",
    "    print(\"Exploring dictionaries in 'data':\")\n",
    "    for key, value in data.items():\n",
    "        if isinstance(value, dict):\n",
    "            print(f\"\\nKey: {key}\")\n",
    "            print(\"Dictionary keys:\")\n",
    "            for sub_key in value.keys():\n",
    "                print(sub_key)\n",
    "        elif isinstance(value, list):\n",
    "            print(f\"\\nKey: {key}\")\n",
    "            print(f\"List length: {len(value)}\")\n",
    "            if len(value) > 0:\n",
    "                print(\"First element:\")\n",
    "                print(value[0])\n",
    "        else:\n",
    "            print(f\"\\nKey: {key}, Value: {value}\")\n"
   ]
  },
  {
   "cell_type": "code",
   "execution_count": 7,
   "metadata": {},
   "outputs": [],
   "source": [
    "# Additional exploration for dictionaries in 'metadata'\n",
    "if 'metadata' in data and isinstance(data['metadata'], dict):\n",
    "    metadata = data['metadata']\n",
    "    print(\"\\nExploring dictionaries in 'metadata':\")\n",
    "    for key, value in metadata.items():\n",
    "        if isinstance(value, dict):\n",
    "            print(f\"\\nKey: {key}\")\n",
    "            print(\"Dictionary keys:\")\n",
    "            for sub_key in value.keys():\n",
    "                print(sub_key)\n",
    "        elif isinstance(value, list):\n",
    "            print(f\"\\nKey: {key}\")\n",
    "            print(f\"List length: {len(value)}\")\n",
    "            if len(value) > 0:\n",
    "                print(\"First element:\")\n",
    "                print(value[0])\n",
    "        else:\n",
    "            print(f\"\\nKey: {key}, Value: {value}\")"
   ]
  },
  {
   "cell_type": "markdown",
   "metadata": {},
   "source": [
    "As you likely identified, we have a list of lists forming the `'data'`. In order to make sense of that list of lists, we need to find the meaning of each index, i.e. the names of the columns.\n",
    "\n",
    "## Identify the Column Names\n",
    "\n",
    "Look through the metadata to find the *names* of the columns, and assign that variable to `column_names`. This should be a list of strings. (If you just get the values associated with the `'columns'` key, you will have a list of dictionaries, not a list of strings.)"
   ]
  },
  {
   "cell_type": "code",
   "execution_count": 8,
   "metadata": {},
   "outputs": [
    {
     "name": "stdout",
     "output_type": "stream",
     "text": [
      "No metadata found in the data.\n"
     ]
    }
   ],
   "source": [
    "# Your code here (add additional cells as needed)\n",
    "# Check if the metadata exists\n",
    "if 'metadata' in data and isinstance(data['metadata'], dict):\n",
    "    metadata = data['metadata']\n",
    "    # Check if the 'columns' key exists in the metadata\n",
    "    if 'columns' in metadata:\n",
    "        # Extract the column names\n",
    "        column_names = [column['name'] for column in metadata['columns']]\n",
    "        print(\"Column Names:\")\n",
    "        print(column_names)\n",
    "    else:\n",
    "        print(\"No information about column names found in the metadata.\")\n",
    "else:\n",
    "    print(\"No metadata found in the data.\")\n"
   ]
  },
  {
   "cell_type": "markdown",
   "metadata": {},
   "source": [
    "The following code checks that you have the correct column names:"
   ]
  },
  {
   "cell_type": "code",
   "execution_count": 14,
   "metadata": {},
   "outputs": [
    {
     "name": "stdout",
     "output_type": "stream",
     "text": [
      "No metadata found in the data.\n"
     ]
    }
   ],
   "source": [
    "# Run this cell without changes\n",
    "# Check if the metadata exists\n",
    "if 'metadata' in data and isinstance(data['metadata'], dict):\n",
    "    metadata = data['metadata']\n",
    "    # Check if the 'columns' key exists in the metadata\n",
    "    if 'columns' in metadata:\n",
    "        # Extract the column names\n",
    "        column_names = [column['name'] for column in metadata['columns']]\n",
    "        print(\"Column Names:\")\n",
    "        print(column_names)\n",
    "    else:\n",
    "        print(\"No information about column names found in the metadata.\")\n",
    "else:\n",
    "    print(\"No metadata found in the data.\")\n",
    "\n"
   ]
  },
  {
   "cell_type": "markdown",
   "metadata": {},
   "source": [
    "## Filter Rows Based on Columns\n",
    "\n",
    "Recall that we only want to include records where:\n",
    "\n",
    "* The `'Question'` is `'Current asthma prevalence among adults aged >= 18 years'`\n",
    "* The `'StratificationCategoryID1'` is `'OVERALL'`\n",
    "* The `'DataValueTypeID'` is `'CRDPREV'`\n",
    "* The `'LocationDesc'` is not `'United States'`\n",
    "\n",
    "Combining knowledge of the data and metadata, filter out the rows of data that are not relevant.\n",
    "\n",
    "(You may find the `pandas` library useful here.)"
   ]
  },
  {
   "cell_type": "code",
   "execution_count": 20,
   "metadata": {},
   "outputs": [
    {
     "name": "stdout",
     "output_type": "stream",
     "text": [
      "No metadata found in the data.\n",
      "No column names extracted from metadata.\n"
     ]
    }
   ],
   "source": [
    "# Your code here (add additional cells as needed)\n",
    "import pandas as pd\n",
    "\n",
    "# Check if the metadata exists\n",
    "if 'metadata' in data and isinstance(data['metadata'], dict):\n",
    "    metadata = data['metadata']\n",
    "    # Check if the 'columns' key exists in the metadata\n",
    "    if 'columns' in metadata:\n",
    "        # Extract the column names\n",
    "        column_names = [column['name'] for column in metadata['columns']]\n",
    "        print(\"Column Names:\")\n",
    "        print(column_names)\n",
    "    else:\n",
    "        print(\"No information about column names found in the metadata.\")\n",
    "else:\n",
    "    print(\"No metadata found in the data.\")\n",
    "\n",
    "# Check if column_names is empty\n",
    "if not column_names:\n",
    "    print(\"No column names extracted from metadata.\")\n",
    "else:\n",
    "    # Check if the data exists and it's a list\n",
    "    if 'data' in data and isinstance(data['data'], list):\n",
    "        # Load the data into a DataFrame\n",
    "        df = pd.DataFrame(data['data'], columns=column_names)\n",
    "\n",
    "        # Filter rows based on the given criteria\n",
    "        filtered_df = df[\n",
    "            (df['Question'] == 'Current asthma prevalence among adults aged >= 18 years') &\n",
    "            (df['StratificationCategoryID1'] == 'OVERALL') &\n",
    "            (df['DataValueTypeID'] == 'CRDPREV') &\n",
    "            (df['LocationDesc'] != 'United States')\n",
    "        ]\n",
    "\n",
    "        # Display the filtered DataFrame\n",
    "        print(\"Filtered DataFrame:\")\n",
    "        print(filtered_df)\n",
    "    else:\n",
    "        print(\"No data found or it is not in the expected format.\")\n",
    "\n",
    "\n"
   ]
  },
  {
   "cell_type": "markdown",
   "metadata": {},
   "source": [
    "You should have 54 records after filtering.\n",
    "\n",
    "## Extract the Attributes Required for Plotting\n",
    "\n",
    "For each record, the only information we actually need for the graph is the `'DataValue'` and `'LocationDesc'`. Create a list of records that only contains these two attributes.\n",
    "\n",
    "Also, make sure that the data values are numbers, not strings."
   ]
  },
  {
   "cell_type": "code",
   "execution_count": 23,
   "metadata": {},
   "outputs": [
    {
     "name": "stdout",
     "output_type": "stream",
     "text": [
      "No metadata found in the data.\n",
      "No column names extracted from metadata.\n"
     ]
    }
   ],
   "source": [
    "# Your code here (create additional cells as needed)\n",
    "import pandas as pd\n",
    "\n",
    "# Check if the metadata exists\n",
    "if 'metadata' in data and isinstance(data['metadata'], dict):\n",
    "    metadata = data['metadata']\n",
    "    # Check if the 'columns' key exists in the metadata\n",
    "    if 'columns' in metadata:\n",
    "        # Extract the column names\n",
    "        column_names = [column['name'] for column in metadata['columns']]\n",
    "        print(\"Column Names:\")\n",
    "        print(column_names)\n",
    "    else:\n",
    "        print(\"No information about column names found in the metadata.\")\n",
    "else:\n",
    "    print(\"No metadata found in the data.\")\n",
    "\n",
    "# Define column_names as an empty list if it hasn't been defined\n",
    "if 'column_names' not in locals():\n",
    "    column_names = []\n",
    "\n",
    "# Check if the data exists and it's a list\n",
    "if 'data' in data and isinstance(data['data'], list):\n",
    "    # Check if column_names is empty\n",
    "    if not column_names:\n",
    "        print(\"No column names extracted from metadata.\")\n",
    "    else:\n",
    "        # Load the data into a DataFrame\n",
    "        df = pd.DataFrame(data['data'], columns=column_names)\n",
    "\n",
    "        # Filter rows based on the given criteria\n",
    "        filtered_df = df[\n",
    "            (df['Question'] == 'Current asthma prevalence among adults aged >= 18 years') &\n",
    "            (df['StratificationCategoryID1'] == 'OVERALL') &\n",
    "            (df['DataValueTypeID'] == 'CRDPREV') &\n",
    "            (df['LocationDesc'] != 'United States')\n",
    "        ]\n",
    "\n",
    "        # Extract required attributes\n",
    "        required_attributes = []\n",
    "\n",
    "        # Iterate over the filtered DataFrame and extract the required attributes\n",
    "        for index, row in filtered_df.iterrows():\n",
    "            # Check if the 'DataValue' attribute is a string representation of a number\n",
    "            if isinstance(row['DataValue'], str) and row['DataValue'].replace('.', '', 1).isdigit():\n",
    "                # Convert the 'DataValue' to a float\n",
    "                data_value = float(row['DataValue'])\n",
    "            else:\n",
    "                # If 'DataValue' is not a string representation of a number, skip this record\n",
    "                continue\n",
    "            # Append a tuple containing the 'DataValue' and 'LocationDesc' to the list\n",
    "            required_attributes.append((data_value, row['LocationDesc']))\n",
    "\n",
    "        # Display the required attributes\n",
    "        print(\"Required Attributes:\")\n",
    "        print(required_attributes)\n",
    "else:\n",
    "    print(\"No data found or it is not in the expected format.\")\n",
    "\n",
    "\n"
   ]
  },
  {
   "cell_type": "markdown",
   "metadata": {},
   "source": [
    "## Find Top 10 States\n",
    "\n",
    "Sort by `'DataValue'` and limit to the first 10 records."
   ]
  },
  {
   "cell_type": "code",
   "execution_count": 24,
   "metadata": {},
   "outputs": [
    {
     "name": "stdout",
     "output_type": "stream",
     "text": [
      "Top 10 States:\n",
      "[]\n"
     ]
    }
   ],
   "source": [
    "# Your code here (add additional cells as needed)\n",
    "# Sort the required attributes by 'DataValue' in descending order\n",
    "sorted_attributes = sorted(required_attributes, key=lambda x: x[0], reverse=True)\n",
    "\n",
    "# Select the top 10 states\n",
    "top_10_states = sorted_attributes[:10]\n",
    "\n",
    "# Display the top 10 states\n",
    "print(\"Top 10 States:\")\n",
    "print(top_10_states)\n"
   ]
  },
  {
   "cell_type": "markdown",
   "metadata": {},
   "source": [
    "## Separate the Names and Values for Plotting\n",
    "\n",
    "Assign the names of the top 10 states to a list-like variable `names`, and the associated values to a list-like variable `values`. Then the plotting code below should work correctly to make the desired bar graph."
   ]
  },
  {
   "cell_type": "code",
   "execution_count": 25,
   "metadata": {},
   "outputs": [],
   "source": [
    "# Replace None with appropriate code\n",
    "\n",
    "names = []\n",
    "values = []"
   ]
  },
  {
   "cell_type": "code",
   "execution_count": 26,
   "metadata": {},
   "outputs": [
    {
     "data": {
      "image/png": "[encoded data removed]",
      "text/plain": [
       "<Figure size 640x480 with 1 Axes>"
      ]
     },
     "metadata": {},
     "output_type": "display_data"
    }
   ],
   "source": [
    "# Run this cell without changes\n",
    "\n",
    "import matplotlib.pyplot as plt\n",
    "fig, ax = plt.subplots()\n",
    "\n",
    "ax.barh(names[::-1], values[::-1]) # Values inverted so highest is at top\n",
    "ax.set_title('Adult Asthma Rates by State in 2016')\n",
    "ax.set_xlabel('Percent 18+ with Asthma');"
   ]
  },
  {
   "cell_type": "markdown",
   "metadata": {},
   "source": [
    "## Summary\n",
    "\n",
    "In this lab you got some extended practice exploring the structure of JSON files and visualizing data."
   ]
  }
 ],
 "metadata": {
  "kernelspec": {
   "display_name": "Python (learn-env)",
   "language": "python",
   "name": "learn-env"
  },
  "language_info": {
   "codemirror_mode": {
    "name": "ipython",
    "version": 3
   },
   "file_extension": ".py",
   "mimetype": "text/x-python",
   "name": "python",
   "nbconvert_exporter": "python",
   "pygments_lexer": "ipython3",
   "version": "3.8.16"
  },
  "toc": {
   "base_numbering": 1,
   "nav_menu": {},
   "number_sections": true,
   "sideBar": true,
   "skip_h1_title": false,
   "title_cell": "Table of Contents",
   "title_sidebar": "Contents",
   "toc_cell": false,
   "toc_position": {},
   "toc_section_display": true,
   "toc_window_display": false
  }
 },
 "nbformat": 4,
 "nbformat_minor": 4
}
